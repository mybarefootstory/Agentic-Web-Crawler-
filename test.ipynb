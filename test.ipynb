{
 "cells": [
  {
   "cell_type": "code",
   "execution_count": 1,
   "metadata": {},
   "outputs": [],
   "source": [
    "import os\n",
    "from dotenv import load_dotenv\n",
    "\n",
    "load_dotenv()\n",
    "GROQ_API_KEY = os.environ.get(\"GROQ_API_KEY\")\n",
    "TAVILY_API_KEY = os.environ.get(\"TAVILY_API_KEY\")\n",
    "OPENAI_API_KEY = os.environ.get(\"OPENAI_API_KEY\")\n",
    "DEEPSEEK_API_KEY = os.environ.get(\"DEEPSEEK_API_KEY\")"
   ]
  },
  {
   "cell_type": "code",
   "execution_count": null,
   "metadata": {},
   "outputs": [],
   "source": [
    "from langchain_groq import ChatGroq\n",
    "from langchain_deepseek import ChatDeepSeek\n",
    "from langchain_openai import ChatOpenAI\n",
    "from langchain_community.tools.tavily_search import TavilySearchResults\n"
   ]
  },
  {
   "cell_type": "code",
   "execution_count": 3,
   "metadata": {},
   "outputs": [
    {
     "name": "stdout",
     "output_type": "stream",
     "text": [
      "\n",
      "\n",
      "\u001b[1m> Entering new AgentExecutor chain...\u001b[0m\n",
      "\u001b[32;1m\u001b[1;3m\u001b[0m\n"
     ]
    },
    {
     "ename": "ImportError",
     "evalue": "Could not import transformers python package. This is needed in order to calculate get_token_ids. Please install it with `pip install transformers`.",
     "output_type": "error",
     "traceback": [
      "\u001b[1;31m---------------------------------------------------------------------------\u001b[0m",
      "\u001b[1;31mModuleNotFoundError\u001b[0m                       Traceback (most recent call last)",
      "File \u001b[1;32me:\\Data Science Projects\\Agentic Chatbot\\venv\\lib\\site-packages\\langchain_core\\language_models\\base.py:62\u001b[0m, in \u001b[0;36mget_tokenizer\u001b[1;34m()\u001b[0m\n\u001b[0;32m     61\u001b[0m \u001b[38;5;28;01mtry\u001b[39;00m:\n\u001b[1;32m---> 62\u001b[0m     \u001b[38;5;28;01mfrom\u001b[39;00m\u001b[38;5;250m \u001b[39m\u001b[38;5;21;01mtransformers\u001b[39;00m\u001b[38;5;250m \u001b[39m\u001b[38;5;28;01mimport\u001b[39;00m GPT2TokenizerFast  \u001b[38;5;66;03m# type: ignore[import]\u001b[39;00m\n\u001b[0;32m     63\u001b[0m \u001b[38;5;28;01mexcept\u001b[39;00m \u001b[38;5;167;01mImportError\u001b[39;00m \u001b[38;5;28;01mas\u001b[39;00m e:\n",
      "\u001b[1;31mModuleNotFoundError\u001b[0m: No module named 'transformers'",
      "\nThe above exception was the direct cause of the following exception:\n",
      "\u001b[1;31mImportError\u001b[0m                               Traceback (most recent call last)",
      "Cell \u001b[1;32mIn[3], line 23\u001b[0m\n\u001b[0;32m     17\u001b[0m agent \u001b[38;5;241m=\u001b[39m create_conversational_retrieval_agent(\n\u001b[0;32m     18\u001b[0m     llm,\n\u001b[0;32m     19\u001b[0m     tools\u001b[38;5;241m=\u001b[39m[tavily_tool],\n\u001b[0;32m     20\u001b[0m     verbose\u001b[38;5;241m=\u001b[39m\u001b[38;5;28;01mTrue\u001b[39;00m,\n\u001b[0;32m     21\u001b[0m )\n\u001b[0;32m     22\u001b[0m \u001b[38;5;66;03m# run the agent\u001b[39;00m\n\u001b[1;32m---> 23\u001b[0m \u001b[43magent\u001b[49m\u001b[38;5;241;43m.\u001b[39;49m\u001b[43minvoke\u001b[49m\u001b[43m(\u001b[49m\u001b[38;5;124;43m\"\u001b[39;49m\u001b[38;5;124;43mWhat happened in the latest burning man floods?\u001b[39;49m\u001b[38;5;124;43m\"\u001b[39;49m\u001b[43m)\u001b[49m\n",
      "File \u001b[1;32me:\\Data Science Projects\\Agentic Chatbot\\venv\\lib\\site-packages\\langchain\\chains\\base.py:170\u001b[0m, in \u001b[0;36mChain.invoke\u001b[1;34m(self, input, config, **kwargs)\u001b[0m\n\u001b[0;32m    168\u001b[0m \u001b[38;5;28;01mexcept\u001b[39;00m \u001b[38;5;167;01mBaseException\u001b[39;00m \u001b[38;5;28;01mas\u001b[39;00m e:\n\u001b[0;32m    169\u001b[0m     run_manager\u001b[38;5;241m.\u001b[39mon_chain_error(e)\n\u001b[1;32m--> 170\u001b[0m     \u001b[38;5;28;01mraise\u001b[39;00m e\n\u001b[0;32m    171\u001b[0m run_manager\u001b[38;5;241m.\u001b[39mon_chain_end(outputs)\n\u001b[0;32m    173\u001b[0m \u001b[38;5;28;01mif\u001b[39;00m include_run_info:\n",
      "File \u001b[1;32me:\\Data Science Projects\\Agentic Chatbot\\venv\\lib\\site-packages\\langchain\\chains\\base.py:165\u001b[0m, in \u001b[0;36mChain.invoke\u001b[1;34m(self, input, config, **kwargs)\u001b[0m\n\u001b[0;32m    158\u001b[0m     \u001b[38;5;28mself\u001b[39m\u001b[38;5;241m.\u001b[39m_validate_inputs(inputs)\n\u001b[0;32m    159\u001b[0m     outputs \u001b[38;5;241m=\u001b[39m (\n\u001b[0;32m    160\u001b[0m         \u001b[38;5;28mself\u001b[39m\u001b[38;5;241m.\u001b[39m_call(inputs, run_manager\u001b[38;5;241m=\u001b[39mrun_manager)\n\u001b[0;32m    161\u001b[0m         \u001b[38;5;28;01mif\u001b[39;00m new_arg_supported\n\u001b[0;32m    162\u001b[0m         \u001b[38;5;28;01melse\u001b[39;00m \u001b[38;5;28mself\u001b[39m\u001b[38;5;241m.\u001b[39m_call(inputs)\n\u001b[0;32m    163\u001b[0m     )\n\u001b[1;32m--> 165\u001b[0m     final_outputs: Dict[\u001b[38;5;28mstr\u001b[39m, Any] \u001b[38;5;241m=\u001b[39m \u001b[38;5;28;43mself\u001b[39;49m\u001b[38;5;241;43m.\u001b[39;49m\u001b[43mprep_outputs\u001b[49m\u001b[43m(\u001b[49m\n\u001b[0;32m    166\u001b[0m \u001b[43m        \u001b[49m\u001b[43minputs\u001b[49m\u001b[43m,\u001b[49m\u001b[43m \u001b[49m\u001b[43moutputs\u001b[49m\u001b[43m,\u001b[49m\u001b[43m \u001b[49m\u001b[43mreturn_only_outputs\u001b[49m\n\u001b[0;32m    167\u001b[0m \u001b[43m    \u001b[49m\u001b[43m)\u001b[49m\n\u001b[0;32m    168\u001b[0m \u001b[38;5;28;01mexcept\u001b[39;00m \u001b[38;5;167;01mBaseException\u001b[39;00m \u001b[38;5;28;01mas\u001b[39;00m e:\n\u001b[0;32m    169\u001b[0m     run_manager\u001b[38;5;241m.\u001b[39mon_chain_error(e)\n",
      "File \u001b[1;32me:\\Data Science Projects\\Agentic Chatbot\\venv\\lib\\site-packages\\langchain\\chains\\base.py:466\u001b[0m, in \u001b[0;36mChain.prep_outputs\u001b[1;34m(self, inputs, outputs, return_only_outputs)\u001b[0m\n\u001b[0;32m    464\u001b[0m \u001b[38;5;28mself\u001b[39m\u001b[38;5;241m.\u001b[39m_validate_outputs(outputs)\n\u001b[0;32m    465\u001b[0m \u001b[38;5;28;01mif\u001b[39;00m \u001b[38;5;28mself\u001b[39m\u001b[38;5;241m.\u001b[39mmemory \u001b[38;5;129;01mis\u001b[39;00m \u001b[38;5;129;01mnot\u001b[39;00m \u001b[38;5;28;01mNone\u001b[39;00m:\n\u001b[1;32m--> 466\u001b[0m     \u001b[38;5;28;43mself\u001b[39;49m\u001b[38;5;241;43m.\u001b[39;49m\u001b[43mmemory\u001b[49m\u001b[38;5;241;43m.\u001b[39;49m\u001b[43msave_context\u001b[49m\u001b[43m(\u001b[49m\u001b[43minputs\u001b[49m\u001b[43m,\u001b[49m\u001b[43m \u001b[49m\u001b[43moutputs\u001b[49m\u001b[43m)\u001b[49m\n\u001b[0;32m    467\u001b[0m \u001b[38;5;28;01mif\u001b[39;00m return_only_outputs:\n\u001b[0;32m    468\u001b[0m     \u001b[38;5;28;01mreturn\u001b[39;00m outputs\n",
      "File \u001b[1;32me:\\Data Science Projects\\Agentic Chatbot\\venv\\lib\\site-packages\\langchain\\agents\\openai_functions_agent\\agent_token_buffer_memory.py:97\u001b[0m, in \u001b[0;36mAgentTokenBufferMemory.save_context\u001b[1;34m(self, inputs, outputs)\u001b[0m\n\u001b[0;32m     95\u001b[0m \u001b[38;5;66;03m# Prune buffer if it exceeds max token limit\u001b[39;00m\n\u001b[0;32m     96\u001b[0m buffer \u001b[38;5;241m=\u001b[39m \u001b[38;5;28mself\u001b[39m\u001b[38;5;241m.\u001b[39mchat_memory\u001b[38;5;241m.\u001b[39mmessages\n\u001b[1;32m---> 97\u001b[0m curr_buffer_length \u001b[38;5;241m=\u001b[39m \u001b[38;5;28;43mself\u001b[39;49m\u001b[38;5;241;43m.\u001b[39;49m\u001b[43mllm\u001b[49m\u001b[38;5;241;43m.\u001b[39;49m\u001b[43mget_num_tokens_from_messages\u001b[49m\u001b[43m(\u001b[49m\u001b[43mbuffer\u001b[49m\u001b[43m)\u001b[49m\n\u001b[0;32m     98\u001b[0m \u001b[38;5;28;01mif\u001b[39;00m curr_buffer_length \u001b[38;5;241m>\u001b[39m \u001b[38;5;28mself\u001b[39m\u001b[38;5;241m.\u001b[39mmax_token_limit:\n\u001b[0;32m     99\u001b[0m     \u001b[38;5;28;01mwhile\u001b[39;00m curr_buffer_length \u001b[38;5;241m>\u001b[39m \u001b[38;5;28mself\u001b[39m\u001b[38;5;241m.\u001b[39mmax_token_limit:\n",
      "File \u001b[1;32me:\\Data Science Projects\\Agentic Chatbot\\venv\\lib\\site-packages\\langchain_core\\language_models\\base.py:393\u001b[0m, in \u001b[0;36mBaseLanguageModel.get_num_tokens_from_messages\u001b[1;34m(self, messages, tools)\u001b[0m\n\u001b[0;32m    388\u001b[0m \u001b[38;5;28;01mif\u001b[39;00m tools \u001b[38;5;129;01mis\u001b[39;00m \u001b[38;5;129;01mnot\u001b[39;00m \u001b[38;5;28;01mNone\u001b[39;00m:\n\u001b[0;32m    389\u001b[0m     warnings\u001b[38;5;241m.\u001b[39mwarn(\n\u001b[0;32m    390\u001b[0m         \u001b[38;5;124m\"\u001b[39m\u001b[38;5;124mCounting tokens in tool schemas is not yet supported. Ignoring tools.\u001b[39m\u001b[38;5;124m\"\u001b[39m,\n\u001b[0;32m    391\u001b[0m         stacklevel\u001b[38;5;241m=\u001b[39m\u001b[38;5;241m2\u001b[39m,\n\u001b[0;32m    392\u001b[0m     )\n\u001b[1;32m--> 393\u001b[0m \u001b[38;5;28;01mreturn\u001b[39;00m \u001b[38;5;28;43msum\u001b[39;49m\u001b[43m(\u001b[49m\u001b[38;5;28;43mself\u001b[39;49m\u001b[38;5;241;43m.\u001b[39;49m\u001b[43mget_num_tokens\u001b[49m\u001b[43m(\u001b[49m\u001b[43mget_buffer_string\u001b[49m\u001b[43m(\u001b[49m\u001b[43m[\u001b[49m\u001b[43mm\u001b[49m\u001b[43m]\u001b[49m\u001b[43m)\u001b[49m\u001b[43m)\u001b[49m\u001b[43m \u001b[49m\u001b[38;5;28;43;01mfor\u001b[39;49;00m\u001b[43m \u001b[49m\u001b[43mm\u001b[49m\u001b[43m \u001b[49m\u001b[38;5;129;43;01min\u001b[39;49;00m\u001b[43m \u001b[49m\u001b[43mmessages\u001b[49m\u001b[43m)\u001b[49m\n",
      "File \u001b[1;32me:\\Data Science Projects\\Agentic Chatbot\\venv\\lib\\site-packages\\langchain_core\\language_models\\base.py:393\u001b[0m, in \u001b[0;36m<genexpr>\u001b[1;34m(.0)\u001b[0m\n\u001b[0;32m    388\u001b[0m \u001b[38;5;28;01mif\u001b[39;00m tools \u001b[38;5;129;01mis\u001b[39;00m \u001b[38;5;129;01mnot\u001b[39;00m \u001b[38;5;28;01mNone\u001b[39;00m:\n\u001b[0;32m    389\u001b[0m     warnings\u001b[38;5;241m.\u001b[39mwarn(\n\u001b[0;32m    390\u001b[0m         \u001b[38;5;124m\"\u001b[39m\u001b[38;5;124mCounting tokens in tool schemas is not yet supported. Ignoring tools.\u001b[39m\u001b[38;5;124m\"\u001b[39m,\n\u001b[0;32m    391\u001b[0m         stacklevel\u001b[38;5;241m=\u001b[39m\u001b[38;5;241m2\u001b[39m,\n\u001b[0;32m    392\u001b[0m     )\n\u001b[1;32m--> 393\u001b[0m \u001b[38;5;28;01mreturn\u001b[39;00m \u001b[38;5;28msum\u001b[39m(\u001b[38;5;28;43mself\u001b[39;49m\u001b[38;5;241;43m.\u001b[39;49m\u001b[43mget_num_tokens\u001b[49m\u001b[43m(\u001b[49m\u001b[43mget_buffer_string\u001b[49m\u001b[43m(\u001b[49m\u001b[43m[\u001b[49m\u001b[43mm\u001b[49m\u001b[43m]\u001b[49m\u001b[43m)\u001b[49m\u001b[43m)\u001b[49m \u001b[38;5;28;01mfor\u001b[39;00m m \u001b[38;5;129;01min\u001b[39;00m messages)\n",
      "File \u001b[1;32me:\\Data Science Projects\\Agentic Chatbot\\venv\\lib\\site-packages\\langchain_core\\language_models\\base.py:366\u001b[0m, in \u001b[0;36mBaseLanguageModel.get_num_tokens\u001b[1;34m(self, text)\u001b[0m\n\u001b[0;32m    355\u001b[0m \u001b[38;5;28;01mdef\u001b[39;00m\u001b[38;5;250m \u001b[39m\u001b[38;5;21mget_num_tokens\u001b[39m(\u001b[38;5;28mself\u001b[39m, text: \u001b[38;5;28mstr\u001b[39m) \u001b[38;5;241m-\u001b[39m\u001b[38;5;241m>\u001b[39m \u001b[38;5;28mint\u001b[39m:\n\u001b[0;32m    356\u001b[0m \u001b[38;5;250m    \u001b[39m\u001b[38;5;124;03m\"\"\"Get the number of tokens present in the text.\u001b[39;00m\n\u001b[0;32m    357\u001b[0m \n\u001b[0;32m    358\u001b[0m \u001b[38;5;124;03m    Useful for checking if an input fits in a model's context window.\u001b[39;00m\n\u001b[1;32m   (...)\u001b[0m\n\u001b[0;32m    364\u001b[0m \u001b[38;5;124;03m        The integer number of tokens in the text.\u001b[39;00m\n\u001b[0;32m    365\u001b[0m \u001b[38;5;124;03m    \"\"\"\u001b[39;00m\n\u001b[1;32m--> 366\u001b[0m     \u001b[38;5;28;01mreturn\u001b[39;00m \u001b[38;5;28mlen\u001b[39m(\u001b[38;5;28;43mself\u001b[39;49m\u001b[38;5;241;43m.\u001b[39;49m\u001b[43mget_token_ids\u001b[49m\u001b[43m(\u001b[49m\u001b[43mtext\u001b[49m\u001b[43m)\u001b[49m)\n",
      "File \u001b[1;32me:\\Data Science Projects\\Agentic Chatbot\\venv\\lib\\site-packages\\langchain_core\\language_models\\base.py:353\u001b[0m, in \u001b[0;36mBaseLanguageModel.get_token_ids\u001b[1;34m(self, text)\u001b[0m\n\u001b[0;32m    351\u001b[0m     \u001b[38;5;28;01mreturn\u001b[39;00m \u001b[38;5;28mself\u001b[39m\u001b[38;5;241m.\u001b[39mcustom_get_token_ids(text)\n\u001b[0;32m    352\u001b[0m \u001b[38;5;28;01melse\u001b[39;00m:\n\u001b[1;32m--> 353\u001b[0m     \u001b[38;5;28;01mreturn\u001b[39;00m \u001b[43m_get_token_ids_default_method\u001b[49m\u001b[43m(\u001b[49m\u001b[43mtext\u001b[49m\u001b[43m)\u001b[49m\n",
      "File \u001b[1;32me:\\Data Science Projects\\Agentic Chatbot\\venv\\lib\\site-packages\\langchain_core\\language_models\\base.py:77\u001b[0m, in \u001b[0;36m_get_token_ids_default_method\u001b[1;34m(text)\u001b[0m\n\u001b[0;32m     75\u001b[0m \u001b[38;5;250m\u001b[39m\u001b[38;5;124;03m\"\"\"Encode the text into token IDs.\"\"\"\u001b[39;00m\n\u001b[0;32m     76\u001b[0m \u001b[38;5;66;03m# get the cached tokenizer\u001b[39;00m\n\u001b[1;32m---> 77\u001b[0m tokenizer \u001b[38;5;241m=\u001b[39m \u001b[43mget_tokenizer\u001b[49m\u001b[43m(\u001b[49m\u001b[43m)\u001b[49m\n\u001b[0;32m     79\u001b[0m \u001b[38;5;66;03m# tokenize the text using the GPT-2 tokenizer\u001b[39;00m\n\u001b[0;32m     80\u001b[0m \u001b[38;5;28;01mreturn\u001b[39;00m tokenizer\u001b[38;5;241m.\u001b[39mencode(text)\n",
      "File \u001b[1;32me:\\Data Science Projects\\Agentic Chatbot\\venv\\lib\\site-packages\\langchain_core\\language_models\\base.py:69\u001b[0m, in \u001b[0;36mget_tokenizer\u001b[1;34m()\u001b[0m\n\u001b[0;32m     63\u001b[0m \u001b[38;5;28;01mexcept\u001b[39;00m \u001b[38;5;167;01mImportError\u001b[39;00m \u001b[38;5;28;01mas\u001b[39;00m e:\n\u001b[0;32m     64\u001b[0m     msg \u001b[38;5;241m=\u001b[39m (\n\u001b[0;32m     65\u001b[0m         \u001b[38;5;124m\"\u001b[39m\u001b[38;5;124mCould not import transformers python package. \u001b[39m\u001b[38;5;124m\"\u001b[39m\n\u001b[0;32m     66\u001b[0m         \u001b[38;5;124m\"\u001b[39m\u001b[38;5;124mThis is needed in order to calculate get_token_ids. \u001b[39m\u001b[38;5;124m\"\u001b[39m\n\u001b[0;32m     67\u001b[0m         \u001b[38;5;124m\"\u001b[39m\u001b[38;5;124mPlease install it with `pip install transformers`.\u001b[39m\u001b[38;5;124m\"\u001b[39m\n\u001b[0;32m     68\u001b[0m     )\n\u001b[1;32m---> 69\u001b[0m     \u001b[38;5;28;01mraise\u001b[39;00m \u001b[38;5;167;01mImportError\u001b[39;00m(msg) \u001b[38;5;28;01mfrom\u001b[39;00m\u001b[38;5;250m \u001b[39m\u001b[38;5;21;01me\u001b[39;00m\n\u001b[0;32m     70\u001b[0m \u001b[38;5;66;03m# create a GPT-2 tokenizer instance\u001b[39;00m\n\u001b[0;32m     71\u001b[0m \u001b[38;5;28;01mreturn\u001b[39;00m GPT2TokenizerFast\u001b[38;5;241m.\u001b[39mfrom_pretrained(\u001b[38;5;124m\"\u001b[39m\u001b[38;5;124mgpt2\u001b[39m\u001b[38;5;124m\"\u001b[39m)\n",
      "\u001b[1;31mImportError\u001b[0m: Could not import transformers python package. This is needed in order to calculate get_token_ids. Please install it with `pip install transformers`."
     ]
    }
   ],
   "source": [
    "import os\n",
    "from langchain_community.utilities.tavily_search import TavilySearchAPIWrapper\n",
    "from langchain.agents.agent_toolkits import create_conversational_retrieval_agent\n",
    "from langchain_groq import ChatGroq\n",
    "from langchain_community.tools.tavily_search.tool import TavilySearchResults\n",
    "\n",
    "# set up API key\n",
    "GROQ_API_KEY = os.environ.get(\"GROQ_API_KEY\")\n",
    "TAVILY_API_KEY = os.environ.get(\"TAVILY_API_KEY\")\n",
    "\n",
    "# set up the agent\n",
    "llm = ChatGroq(model_name=\"llama-3.3-70b-versatile\", temperature=0)\n",
    "search = TavilySearchAPIWrapper()\n",
    "tavily_tool = TavilySearchResults(api_wrapper=search)\n",
    "\n",
    "# initialize the agent\n",
    "agent = create_conversational_retrieval_agent(\n",
    "    llm,\n",
    "    tools=[tavily_tool],\n",
    "    verbose=True,\n",
    ")\n",
    "# run the agent\n",
    "agent.invoke(\"What happened in the latest burning man floods?\")"
   ]
  },
  {
   "cell_type": "code",
   "execution_count": 4,
   "metadata": {},
   "outputs": [],
   "source": [
    "from langchain_community.retrievers import TavilySearchAPIRetriever\n",
    "\n",
    "retriever = TavilySearchAPIRetriever(k=3)"
   ]
  },
  {
   "cell_type": "code",
   "execution_count": 7,
   "metadata": {},
   "outputs": [
    {
     "name": "stdout",
     "output_type": "stream",
     "text": [
      "[Document(metadata={'title': 'The Legend of Zelda: Breath of the Wild Release Date and Time - Game8', 'source': 'https://game8.co/articles/release-dates/the-legend-of-zelda-breath-of-the-wild-release-date-and-time', 'score': 0.83093774, 'images': []}, page_content='Game8NewsRelease DatesThe legend of zelda: breath of the wild release date and time The Legend of Zelda: Breath of the Wild Release Date and Time The Legend of Zelda: Breath of the Wild Release Date and Time The Legend of Zelda: Breath of the Wild was released on March 3, 2017, at midnight local time in each region for both the Wii U and Nintendo Switch. Due to the closure of the Wii U eShop and Nintendo discontinuing physical releases of the Wii U version of Breath of the Wild, the game is now only available for the Nintendo Switch through their official website. The game finally released on March 3, 2017 for the Nintendo Switch and Wii U.'), Document(metadata={'title': 'The Legend of Zelda: Breath of the Wild - Wikipedia', 'source': 'https://en.wikipedia.org/wiki/The_Legend_of_Zelda:_Breath_of_the_Wild', 'score': 0.71113056, 'images': []}, page_content='The Legend of Zelda: Breath of the Wild[b] is a 2017 action-adventure game developed and published by Nintendo for the Nintendo Switch and Wii U. \"Is The Legend of Zelda: Breath of the Wild the best-designed game ever?\". \"The Legend of Zelda: Breath of the Wild is the most ambitious Nintendo game in years\". \"Legend of Zelda: Breath of the Wild will be the last Nintendo game for Wii U\". \"Is The Legend Of Zelda: Breath Of The Wild one of the best games of all time?\". ^ \"D.I.C.E. Awards By Video Game Details The Legend of Zelda: Breath of the Wild\". \"Legend Of Zelda: Breath Of The Wild Wins Another Game Of The Year Award\".'), Document(metadata={'title': 'The Legend of Zelda: Breath of the Wild - Nintendo Switch Wiki', 'source': 'https://nintendo-switch.fandom.com/wiki/The_Legend_of_Zelda:_Breath_of_the_Wild', 'score': 0.6877354, 'images': []}, page_content='The Legend of Zelda: Breath of the Wild | Nintendo Switch Wiki | Fandom The Legend of Zelda Breath of the Wild - Official Game Trailer - Nintendo E3 2016 The Legend of Zelda Breath of the Wild - Official Game Trailer - Nintendo E3 2016 The Legend of Zelda: Breath of the Wild is an open world action-adventure game published by Nintendo for the Wii U and as a launch title for the Nintendo Switch, and was released worldwide on March 3, 2017. The Legend of Zelda Breath of the Wild - Official Game Trailer - Nintendo E3 2016 New Legend Of Zelda Breath of the Wild Gameplay From 2016 Game Awards Nintendo Switch Wiki is a FANDOM Games Community.')]\n"
     ]
    }
   ],
   "source": [
    "query = \"what year was breath of the wild released?\"\n",
    "\n",
    "result = retriever.invoke(query)\n",
    "print(result)"
   ]
  },
  {
   "cell_type": "code",
   "execution_count": 15,
   "metadata": {},
   "outputs": [
    {
     "name": "stdout",
     "output_type": "stream",
     "text": [
      "URL: https://www.instagram.com/potus/?hl=en\n",
      "Content: President Donald J. Trump 45th & 47th President of the United States. The Golden Age of America Begins Right Now.\n",
      "---\n",
      "URL: https://www.whitehouse.gov/\n",
      "Content: The White House Administration The White House President Donald J. Trump Search Administration Search for:  Press Enter to Search America Is Back This will truly be the golden age of America. The Administration Trump President of the United States VICE PRESIDENT OF THE UNITED STATES Melania Trump First Lady OF THE UNITED STATES Of the 47th Administration President Trump is committed to lowering costs for all Americans, securing our borders, unleashing American energy dominance, restoring peace through strength, and making all Americans safe and secure once again. Get direct updates from The White House in your inbox. The White house THE WHITE HOUSE Administration The White House 1600 Pennsylvania Ave NW\n",
      "---\n",
      "URL: https://www.usa.gov/presidents\n",
      "Content: Presidents, vice presidents, and first ladies | USAGov An official website of the United States government A .gov website belongs to an official government organization in the United States. Learn about the duties of president, vice president, and first lady of the United States. President of the United States The president of the United States is the: Former U.S. presidents The United States has had 46 former U.S. presidents. Vice president of the United States The vice president of the United States presides over the U.S. Senate and takes over the role of president of the United States if the president is unable to perform their duties. The 50th and current vice president of the United States is James David (JD) Vance.\n",
      "---\n",
      "URL: https://www.whitehouse.gov/administration/\n",
      "Content: The Trump Administration Search Search for:  Press Enter to Search Trump 45th & 47th President of the United States After a landslide election victory in 2024, President Donald J. Vice President of the United States In 2024, President Donald J. JD looks forward to serving with President Trump over the next four years as they work diligently to Make America Great Again. Melania Trump FIRST Lady of the United States First Lady Melania Trump is the wife of the 45th and 47th President, Donald J. SECOND Lady of the United States Second Lady Usha Vance is the proud wife of Vice President JD Vance and the mother of their three beautiful children, Ewan, Vivek, and Mirabel. President Trump’s Team\n",
      "---\n",
      "URL: https://usun.usmission.gov/our-leaders/the-president-of-the-united-states/\n",
      "Content: President of the United States - United States Mission to the United Nations United States Mission to the United Nations U.S. Mission Leaders President of the United States Vice President of the United States Sections Executive Section Economic and Social Section Legal Section Management Section Political Section Remarks and Highlights President of the United States Home Home | Our Leaders | President of the United States Trump serves as the 47th President of the United States. U.S. MISSION TO THE UN United States Mission to the United Nations This is the official website of the U.S. Mission to the United Nations. External links to other Internet sites should not be construed as an endorsement of the views or privacy policies contained therein.\n",
      "---\n"
     ]
    }
   ],
   "source": [
    "from langchain_community.tools import TavilySearchResults\n",
    "\n",
    "tool = TavilySearchResults(\n",
    "    max_results=5,\n",
    "    search_depth=\"advanced\"\n",
    ")\n",
    "\n",
    "responses = tool.invoke({\"query\":\"Who is the president of America?\"})\n",
    "\n",
    "for response in responses:\n",
    "    url = response.get(\"url\", \"\")  # Use .get() to handle missing keys safely\n",
    "    content = response.get(\"content\", \"\")\n",
    "    print(f\"URL: {url}\\nContent: {content}\\n---\") # Print with separator for clarity\n",
    "\n",
    "\n"
   ]
  },
  {
   "cell_type": "code",
   "execution_count": 20,
   "metadata": {},
   "outputs": [],
   "source": [
    "from langchain_community.tools import TavilySearchResults\n",
    "\n",
    "tool = TavilySearchResults(\n",
    "    max_results=5,\n",
    "    include_answer=True,\n",
    "    include_raw_content=True,\n",
    "    include_images=True,\n",
    "    # search_depth=\"advanced\",\n",
    "    # include_domains = []\n",
    "    exclude_domains = []\n",
    ")"
   ]
  },
  {
   "cell_type": "code",
   "execution_count": null,
   "metadata": {},
   "outputs": [
    {
     "name": "stdout",
     "output_type": "stream",
     "text": [
      "URL: https://www.topendsports.com/events/tennis-grand-slam/french-open/winners-men.htm\n",
      "Content: Winners of the Men's French Open Tennis Tournament Home > Events > Tennis > Grand Slam > French Open > Winners > Men Here are all the winners of the French Tennis Open men's title since the first tournament in 1925. | 2020 | Rafael Nadal (Spain) | Novak Djokovic (Serbia) | 6–0, 6–2, 7–5 | | 2014 | Rafael Nadal (Spain) | Novak Djokovic (Serbia) | 3–6, 7–5, 6–2, 6–4 | | 1988 | Mats Wilander | H. | 1974 | Bjorn Borg | M. | 1934 | Gottfried von Cramm | J. CITE THIS PAGE: Robert Wood, \"Winners of the Men's French Open Tennis Tournament.\" Topend Sports Website, first published May 2010, https://www.topendsports.com/events/tennis-grand-slam/french-open/winners-men.htm, Accessed 8 February 2025  → How to Cite\n",
      "Artifacts: \n",
      "---\n",
      "URL: https://en.wikipedia.org/wiki/List_of_French_Open_men%27s_singles_champions\n",
      "Content: He also holds the record for the most consecutive wins in the Open Era, with five from 2010 to 2014.[5] Max Decugis won eight French Championships prior to the Open Era.[6] Michael Chang became the youngest player in the Open Era to win the French Open when he took the title in 1989 at 17 years, 3 months and 20 days.[7] In contrast, Novak Djokovic is the oldest champion of the Open Era, who won the 2023 French Open at 36 years, twenty days.[8] French players have won the most French Open men's singles titles, with 38 victories, followed by players from Spain (20) and Australia (11). French Championships – Non Grand Slam event ^ \"Tennis - French Open men's singles - Grand Slam tournament\".\n",
      "Artifacts: \n",
      "---\n",
      "URL: https://www.espn.com/tennis/story/_/id/40269330/french-open-winners-mens-womens-singles-champions\n",
      "Content: French Open winners: Men's and women's singles champions - ESPN Watch Tennis on ESPN French Open winners: Men's and women's singles champions French Open winners: Men's and women's singles champions Carlos Alcaraz celebrates a point against Alexander Zverev en route to winning the 2024 French Open men's singles title. With Nadal and 2023 champion Novak Djokovik out of the running in the 2024 tournament, that gave Carlos Alcaraz or Alexander Zverev a chance to add a French Open title to his résumé. Iga Swiatek, the world's current No. 1 player, just won her third consecutive French Open title in the 2024 tournament, drawing her closer to Evert's record. Let's check out men's and women's singles champions throughout French Open history.\n",
      "Artifacts: \n",
      "---\n",
      "URL: https://www.britannica.com/sports/French-Open\n",
      "Content: French Open | History, Winners, & Facts | Britannica Ask the Chatbot Games & Quizzes History & Society Science & Tech Biographies Animals & Nature Geography & Travel Arts & Culture ProCon Money Videos French Open French Open https://www.britannica.com/sports/French-Open Also known as: Championnats Internationaux de France de Tennis, French Championships, French Open Championship Last Updated: Feb 4, 2025 • Article History Women’s doubles matches were added in 1925, the same year that the championships were opened to non-French players. Winners of the French Open doubles championship are provided in the table. French Open Tennis Championships—doubles | 1934 | Jean Borotra, Jacques Brugnon | Simone Mathieu, Elizabeth Ryan | | 1936 | Jean Borotra, Marcel Bernard | Simone Mathieu, Billie Yorke |\n",
      "Artifacts: \n",
      "---\n",
      "URL: https://www.tennis-x.com/winners/mens/french-open.php\n",
      "Content: French Open Men's singles tennis champions, stats and more. 2020    Rafael Nadal (ESP)  Novak Djokovic (SRB)    6-0, 6-2, 7-5 2014    Rafael Nadal (ESP)  Novak Djokovic (SRB)    3-6, 7-5, 6-2, 6-4 2012    Rafael Nadal (ESP)  Novak Djokovic (SRB)    6-4, 6-3, 2-6, 7-5 2010    Rafael Nadal (ESP)  Robin Soderling (SWE)   6-4, 6-2, 6-4 1988    Mats Wilander (SWE) Henri Leconte (FRA) 7-5, 6-2, 6-1 1972    Andres Gimeno (ESP) Patrick Proisy (FRA)    4-6, 6-3, 6-1, 6-1 1930    Henri Cochet (FRA)  William Tilden (USA)    3-6, 8-6, 6-3, 6-1 Most French Open Men's Finals Made 2025 Australian Open Men's Final: Jannik Sinner v Alexander Zverev 2025 Australian Open Men's Semifinals: Djokovic v Zverev, Sinner v Shelton Australian Open Tennis Novak Djokovic's Right Knee Might Force Him Out Of The French Open\n",
      "Artifacts: \n",
      "---\n"
     ]
    }
   ],
   "source": [
    "responses = tool.invoke({\"query\":\"Who won the last French Open\"})\n",
    "\n",
    "for response in responses:\n",
    "    url = response.get(\"url\", \"\")  # Use .get() to handle missing keys safely\n",
    "    content = response.get(\"content\", \"\")\n",
    "    print(f\"URL: {url}\\nContent: {content}\\n---\") # Print with separator for clarity"
   ]
  },
  {
   "cell_type": "code",
   "execution_count": 38,
   "metadata": {},
   "outputs": [
    {
     "name": "stdout",
     "output_type": "stream",
     "text": [
      "URL: https://www.cio.com/article/652775/12-most-popular-ai-use-cases-in-the-enterprise-today.html\n",
      "Content: Organizations all around the globe are implementing AI in a variety of ways to streamline processes, optimize costs, prevent human error, assist customers, manage IT systems, and alleviate repetitive tasks, among other uses. Following is our analysis of the 12 most popular ways AI is being used across all industries in the enterprise today, as companies seek to capitalize on artificial intelligence’s promise to improve customer service, cut business costs, and supercharge business processes. AI can help organizations automate and streamline safety and quality assurance processes, ensuring there are fewer risks to the company and consumers, while also ensuring better quality products and services.\n",
      "---\n",
      "URL: https://productschool.com/blog/artificial-intelligence/ai-business-use-cases\n",
      "Content: Zendesk has integrated AI to help businesses improve their customer service operations, offering automated responses and efficient ticket routing. Coca-Cola uses AI to automate its supply chain management, optimizing logistics and inventory processes, which has resulted in improved efficiency and reduced operational costs. KPMG uses AI to automate financial auditing and reporting processes, improving accuracy and efficiency while reducing the time required to complete audits. HP has implemented AI-driven virtual assistants to help customers troubleshoot and resolve technical issues with their products, resulting in faster resolution times and higher customer satisfaction. Walmart uses AI to forecast demand and optimize inventory management, ensuring products are available when and where they are needed, which has reduced waste and improved customer satisfaction.\n",
      "---\n",
      "URL: https://research.aimultiple.com/ai-usecases/\n",
      "Content: Generative AI Use CasesAI Use Cases for Business Functions> Analytics> Customer Service> Cybersecurity> Data> Finance> HR> Marketing> Operations> Sales> Strategy & Legal> TechAI Use Cases for Industries> Automotive & Autonomous Things>Education> Fashion> FinTech > HealthTech> Manufacturing> Non-Profits> Retail> TelecomOther AI Use CasesFAQ AI Use Cases for Business Functions: Analytics, customer service, cybersecurity, data, finance, HR, marketing, operations sales, strategy and legal, and tech. AI Use Cases for Industries: Automotive & autonomous things, education, fashion, fintech, healthTech, manufacturing, non-profits, retail, and telecom. run data science competitions to build custom AI models AI is transforming industries and business functions, leading to growing interest in AI and its subdomains like machine learning and data science.\n",
      "---\n",
      "URL: https://www.ibm.com/think/topics/artificial-intelligence-business-use-cases\n",
      "Content: The use of AI is effective for creating personalized experiences at scale through chatbots, digital assistants and customer interfaces, delivering tailored experiences and targeted advertisements to customers and end-users. Recommendation engines use consumer behavior data and AI algorithms to help discover data trends to be used in the development of more effective up-selling and cross-selling strategies, resulting in more useful add-on recommendations for customers during checkout for online retailers. AI-powered computer vision enables image segmentation, which has a wide variety of  use cases, including aiding diagnosis in medical imaging, automating locomotion for robotics and self-driving cars, identifying objects of interest in satellite images and photo tagging in social media. To help ensure uninterrupted service availability, leading organizations use real-time root cause analysis capabilities powered by AI and intelligent automation.\n",
      "---\n",
      "URL: https://team-gpt.com/blog/ai-use-cases/\n",
      "Content: 15 Top AI Use Cases for Enterprise Companies in 2024 - Team-GPT 💡 Tools like Team-GPT (that’s us) let you further improve your content quality and humanize it by creating custom instructions for your preferred AI model (such as ChatGPT or Claude). The way AI automation works is that it uses Large Language Models (LLMs) and integrates them with your organization’s proprietary data. The way it works is that AI analyzed behavior data, such as past purchases, and what pages they browsed, to recommend relevant products for each customer. Our enterprise AI software lets your team utilize various AI models like ChatGPT, Claude, and Perplexity and customize them to your brand voice and needs.\n",
      "---\n",
      "Final Answer : The famous AI use cases in the current scenario include:\n",
      "\n",
      "1. **Customer Service**: Automated responses and efficient ticket routing (e.g., Zendesk).\n",
      "2. **Supply Chain Management**: Optimizing logistics and inventory processes (e.g., Coca-Cola).\n",
      "3. **Financial Auditing**: Automating financial auditing and reporting processes (e.g., KPMG).\n",
      "4. **Virtual Assistants**: Helping customers troubleshoot and resolve technical issues (e.g., HP).\n",
      "5. **Demand Forecasting**: Forecasting demand and optimizing inventory management (e.g., Walmart).\n",
      "6. **Personalized Experiences**: Creating personalized experiences through chatbots and digital assistants.\n",
      "7. **Recommendation Engines**: Using consumer behavior data to develop effective up-selling and cross-selling strategies.\n",
      "8. **Computer Vision**: Enabling image segmentation for medical imaging, robotics, and self-driving cars.\n",
      "9. **Root Cause Analysis**: Using real-time root cause analysis capabilities for uninterrupted service availability.\n",
      "10. **Content Quality Improvement**: Using AI tools like Team-GPT to improve content quality and humanize it.\n",
      "\n",
      "These use cases are applied across various industries, including automotive, education, fashion, fintech, healthtech, manufacturing, non-profits, retail, and telecom.\n"
     ]
    }
   ],
   "source": [
    "from langchain_community.tools import TavilySearchResults\n",
    "from langchain_groq import ChatGroq\n",
    "from langchain.prompts import ChatPromptTemplate\n",
    "from langchain.chains import LLMChain\n",
    "\n",
    "# ... (your existing API key and import setup)\n",
    "\n",
    "tool = TavilySearchResults(\n",
    "    max_results=5,\n",
    "    include_answer=True,\n",
    "    include_raw_content=True,\n",
    "    include_images=True,\n",
    "    exclude_domains=[],\n",
    ")\n",
    "\n",
    "query = \"What are the famous AI use cases in the current scenarion?\"  # Store the query in a variable\n",
    "\n",
    "responses = tool.invoke({\"query\": query})  # Pass the query variable to invoke\n",
    "\n",
    "for response in responses:\n",
    "    url = response.get(\"url\", \"\")  # Use .get() to handle missing keys safely\n",
    "    content = response.get(\"content\", \"\")\n",
    "    print(f\"URL: {url}\\nContent: {content}\\n---\") # Print with separator for clarity\n",
    "\n",
    "# 1. Extract and combine content\n",
    "combined_content = \"\\n\\n\".join([response.get(\"content\", \"\") for response in responses])\n",
    "\n",
    "# 2. Set up the Groq LLM\n",
    "groq_llm = ChatGroq(model=\"llama-3.3-70b-versatile\",max_tokens = 400)  # Make sure this model is accessible\n",
    "\n",
    "# 3. Create a prompt template\n",
    "prompt_template =f\"\"\"\n",
    "{query}\n",
    "You are a helpful AI assistant.Above is the query you need to answer. Use the following information to answer the question. : \n",
    "\n",
    "{combined_content}\n",
    "\n",
    "Answer concisely and accurately.\n",
    "\"\"\"\n",
    "\n",
    "\n",
    "# 4. Create an LLM chain\n",
    "prompt = ChatPromptTemplate.from_template(prompt_template)\n",
    "chain = LLMChain(llm=groq_llm, prompt=prompt)\n",
    "\n",
    "# 5. Run the chain with the combined content\n",
    "final_answer = chain.run(context=combined_content)\n",
    "\n",
    "print(f\"Final Answer : {final_answer}\")"
   ]
  },
  {
   "cell_type": "code",
   "execution_count": null,
   "metadata": {},
   "outputs": [],
   "source": []
  },
  {
   "cell_type": "code",
   "execution_count": null,
   "metadata": {},
   "outputs": [],
   "source": []
  },
  {
   "cell_type": "code",
   "execution_count": null,
   "metadata": {},
   "outputs": [],
   "source": []
  },
  {
   "cell_type": "code",
   "execution_count": null,
   "metadata": {},
   "outputs": [],
   "source": []
  }
 ],
 "metadata": {
  "kernelspec": {
   "display_name": "Python 3",
   "language": "python",
   "name": "python3"
  },
  "language_info": {
   "codemirror_mode": {
    "name": "ipython",
    "version": 3
   },
   "file_extension": ".py",
   "mimetype": "text/x-python",
   "name": "python",
   "nbconvert_exporter": "python",
   "pygments_lexer": "ipython3",
   "version": "3.10.0"
  }
 },
 "nbformat": 4,
 "nbformat_minor": 2
}
